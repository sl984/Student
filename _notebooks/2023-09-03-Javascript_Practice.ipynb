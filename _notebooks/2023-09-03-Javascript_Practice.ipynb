{
 "cells": [
  {
   "cell_type": "markdown",
   "metadata": {},
   "source": [
    "---\n",
    "toc: true\n",
    "comments: true\n",
    "layout: post\n",
    "title: Javascript Practice\n",
    "description:  Testing out different stuff with javascript\n",
    "courses: { compsci: {week: 3} }\n",
    "type: hacks\n",
    "---"
   ]
  },
  {
   "cell_type": "code",
   "execution_count": 4,
   "metadata": {},
   "outputs": [
    {
     "data": {
      "text/html": [
       "\n",
       "<!-- html section -->\n",
       "<h1 id=\"title\">My Title<h1>\n",
       "<div id=\"titleIdeas\">\n",
       "</div>\n",
       "\n",
       "<!-- script section -->\n",
       "<script>\n",
       "function createInputLine()\n",
       "{\n",
       "    var inputLine = document.createElement(\"input\");\n",
       "    inputLine.id = \"inputLine\";\n",
       "    inputLine.name = \"inputLine\"\n",
       "    inputLine.onkeydown = changeTitle;\n",
       "    inputLine.style.width = \"15em\";\n",
       "    document.getElementById(\"titleIdeas\").appendChild(inputLine);\n",
       "\n",
       "    document.getElementById(inputLine.id).focus();\n",
       "\n",
       "}\n",
       "\n",
       "function changeTitle(event)\n",
       "{\n",
       "    var key = event.key;\n",
       "    if (key === \"Tab\" || key === \"Enter\")\n",
       "    {\n",
       "        event.preventDefault();\n",
       "        var inputLineArray = document.getElementsByName('inputLine');\n",
       "\n",
       "        var title = document.getElementById(\"title\");\n",
       "        for (let i = 0; i < inputLineArray.length; i++)\n",
       "        {\n",
       "            inputLineArray[i].style.display = \"none\";\n",
       "        }\n",
       "        title.innerHTML = inputLineArray[inputLineArray.length - 1].value;\n",
       "\n",
       "        createInputLine();\n",
       "    }\n",
       "}\n",
       "\n",
       "createInputLine();\n",
       "</script>\n"
      ],
      "text/plain": [
       "<IPython.core.display.HTML object>"
      ]
     },
     "metadata": {},
     "output_type": "display_data"
    }
   ],
   "source": [
    "%%html\n",
    "\n",
    "<!-- html section -->\n",
    "<h1 id=\"title\">My Title<h1>\n",
    "<div id=\"titleIdeas\">\n",
    "</div>\n",
    "\n",
    "<!-- script section -->\n",
    "<script>\n",
    "function createInputLine()\n",
    "{\n",
    "    var inputLine = document.createElement(\"input\");\n",
    "    inputLine.id = \"inputLine\";\n",
    "    inputLine.name = \"inputLine\"\n",
    "    inputLine.onkeydown = changeTitle;\n",
    "    inputLine.style.width = \"15em\";\n",
    "    document.getElementById(\"titleIdeas\").appendChild(inputLine);\n",
    "\n",
    "    document.getElementById(inputLine.id).focus();\n",
    "\n",
    "}\n",
    "\n",
    "function changeTitle(event)\n",
    "{\n",
    "    var key = event.key;\n",
    "    if (key === \"Tab\" || key === \"Enter\")\n",
    "    {\n",
    "        event.preventDefault();\n",
    "        var inputLineArray = document.getElementsByName('inputLine');\n",
    "\n",
    "        var title = document.getElementById(\"title\");\n",
    "        for (let i = 0; i < inputLineArray.length; i++)\n",
    "        {\n",
    "            inputLineArray[i].style.display = \"none\";\n",
    "        }\n",
    "        title.innerHTML = inputLineArray[inputLineArray.length - 1].value;\n",
    "\n",
    "        createInputLine();\n",
    "    }\n",
    "}\n",
    "\n",
    "createInputLine();\n",
    "</script>"
   ]
  }
 ],
 "metadata": {
  "kernelspec": {
   "display_name": "Python 3",
   "language": "python",
   "name": "python3"
  },
  "language_info": {
   "codemirror_mode": {
    "name": "ipython",
    "version": 3
   },
   "file_extension": ".py",
   "mimetype": "text/x-python",
   "name": "python",
   "nbconvert_exporter": "python",
   "pygments_lexer": "ipython3",
   "version": "3.11.5"
  },
  "orig_nbformat": 4
 },
 "nbformat": 4,
 "nbformat_minor": 2
}
