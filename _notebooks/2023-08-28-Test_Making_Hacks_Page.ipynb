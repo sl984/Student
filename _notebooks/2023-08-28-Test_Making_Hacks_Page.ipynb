{
 "cells": [
  {
   "cell_type": "markdown",
   "metadata": {},
   "source": [
    "---\n",
    "toc: true\n",
    "comments: true\n",
    "layout: post\n",
    "title: Making a hack notebook\n",
    "description:  Example!!! This sample shows tesing making a custom hack notebook\n",
    "courses: { compsci: {week: 2} }\n",
    "type: hacks\n",
    "---"
   ]
  },
  {
   "cell_type": "markdown",
   "metadata": {},
   "source": [
    "## Fibonacci Sequence\n",
    "> The following code is a quick and dirty fibonacci sequence code example"
   ]
  },
  {
   "cell_type": "code",
   "execution_count": 5,
   "metadata": {},
   "outputs": [
    {
     "name": "stdout",
     "output_type": "stream",
     "text": [
      "0\n",
      "1\n",
      "1\n",
      "2\n",
      "3\n",
      "5\n",
      "8\n",
      "13\n",
      "21\n"
     ]
    }
   ],
   "source": [
    "def fib(first, second, end):\n",
    "    if first + second > end:\n",
    "        return\n",
    "    if first == 0:\n",
    "        print(str(first) + \"\\n\" + str(second))\n",
    "    print(first + second)\n",
    "    fib(second, first + second, end)\n",
    "\n",
    "end = int(input(\"Give a number to find the fibonacci sequence to that point: \"))\n",
    "fib(0, 1, end)"
   ]
  }
 ],
 "metadata": {
  "kernelspec": {
   "display_name": "Python 3",
   "language": "python",
   "name": "python3"
  },
  "language_info": {
   "codemirror_mode": {
    "name": "ipython",
    "version": 3
   },
   "file_extension": ".py",
   "mimetype": "text/x-python",
   "name": "python",
   "nbconvert_exporter": "python",
   "pygments_lexer": "ipython3",
   "version": "3.11.5"
  },
  "orig_nbformat": 4
 },
 "nbformat": 4,
 "nbformat_minor": 2
}
